{
 "cells": [
  {
   "cell_type": "code",
   "execution_count": 12,
   "metadata": {},
   "outputs": [],
   "source": [
    "#!pip install git+https://github.com/diannamcallister/datefinder\n",
    "\n",
    "url = \"https://arabic.rt.com/features/1045499-%D8%AA%D8%B1%D9%85%D9%8A%D9%85-%D9%82%D8%B5%D8%B1-%D9%85%D8%AD%D9%85%D8%AF-%D8%B9%D9%84%D9%8A-%D8%A7%D9%84%D8%AA%D8%A7%D8%B1%D9%8A%D8%AE%D9%8A-%D9%81%D9%8A-%D9%85%D8%B5%D8%B1/\""
   ]
  },
  {
   "cell_type": "code",
   "execution_count": 13,
   "metadata": {},
   "outputs": [],
   "source": [
    "import sqlite3 as lite\n",
    "import re\n",
    "import datefinder\n",
    "import numpy as np\n",
    "from urllib import request\n",
    "\n",
    "con = lite.connect(\"googledata.sqlite\")\n",
    "cur = con.cursor()\n",
    "cur.execute(\"\"\"CREATE TABLE  IF NOT EXISTS articles(\n",
    "                    id INTEGER PRIMARY KEY, title TEXT, article TEXT , date DATETIME)\"\"\")\n",
    "\n",
    "\n",
    "html = request.urlopen(url).read().decode('utf8')\n",
    "html[:60]\n",
    "\n",
    "from bs4 import BeautifulSoup\n",
    "soup = BeautifulSoup(html, 'html.parser')\n",
    "title = soup.find('title')\n",
    "\n",
    "#print(title) # Prints the tag\n",
    "output_title = title.string # Prints the tag string content\n",
    "#html_page = html.content\n",
    "#soup = BeautifulSoup(html_page, 'html.parser')\n",
    "text = soup.find_all(text=True)\n",
    "\n",
    "output = ''\n",
    "blacklist = [\n",
    "    '[document]',\n",
    "    'noscript',\n",
    "    'header',\n",
    "    'html',\n",
    "    'meta',\n",
    "    'head', \n",
    "    'input',\n",
    "    'script',\n",
    "    'img']\n",
    "\n",
    "for t in text:\n",
    "    if t.parent.name not in blacklist:\n",
    "        output += '{} '.format(t)\n",
    "\n",
    "regex_for_removing_english = re.compile('[a-zA-Z0-9\\!@#$\\%\\^\\&\\*\\(\\)\\,\\.\\/\\?\\\"\\:\\{\\}\\|;\\-<>\\[\\]]')\n",
    "article = regex_for_removing_english.sub('', output)\n",
    "article_list = article.splitlines()\n",
    "final_art = [i for i in article_list if len(i) > 80]\n",
    "final_art = ' \\n '.join(final_art)\n",
    "\n",
    "try:\n",
    "    finaldate = ''\n",
    "    date_matches = datefinder.find_dates(html)\n",
    "    final_dates = []\n",
    "    for match in date_matches:\n",
    "        final_dates.append(str(match))\n",
    "    len_dates = [len(i) for i in final_dates]\n",
    "    finaldate = final_dates[np.argmax(len_dates)]\n",
    "except:\n",
    "    print('exceptionhappened')\n",
    "    finaldate = ''\n",
    "\n",
    "date_matches = datefinder.find_dates(html)\n",
    "for match in date_matches:\n",
    "    final_date = str(match)\n",
    "cur.execute(\"\"\"INSERT INTO articles ( title, article , date ) VALUES(?,?,?) \"\"\",(output_title,final_art, finaldate ) )\n",
    "\n",
    "con.commit()\n"
   ]
  },
  {
   "cell_type": "code",
   "execution_count": 14,
   "metadata": {},
   "outputs": [
    {
     "data": {
      "text/plain": [
       "'ترميم قصر محمد علي التاريخي في مصر - RT Arabic'"
      ]
     },
     "execution_count": 14,
     "metadata": {},
     "output_type": "execute_result"
    }
   ],
   "source": [
    "output_title"
   ]
  },
  {
   "cell_type": "code",
   "execution_count": 15,
   "metadata": {},
   "outputs": [
    {
     "data": {
      "text/plain": [
       "'  РУС       ИНОТВ Д   \\xa0      مباشر \\xa0 الأخبار العالم العربي أخبار العالم روسيا الاقتصاد الرياضة البرامج بالتفاصيل قصارى القول اسأل أكثر رحلة في الذاكرة بانوراما فن الحياة أفلام وثائقية تحقيقات  منوعات العلوم والتكنولوجيا الصحة الثقافة والفن الفضاء العالم الرقمي عالم السيارات متفرقات مجتمع ميديا فيديوهات تقارير مصورة إنفوجرافيك جولات مصورة   صحافة ورأي   فيديوهات  инотв д     \\n                      بوتين العمل على تشكيل اللجنة الدستورية السورية على وشك الانتهاء  \\n             تتواصل في مصر أعمال ترميم القصر التاريخي لمؤسس مصر الحديثة محمد علي، ويضم القصر عددا من المباني المغلقة منذ عام  \\n  زاهي حواس يعلن عن موعد كشف سبب وفاة الملك توت عنخ آمون مصر تعلن عن طفرة في حجم التجارة الخارجية صور الجيش المصري ينقذ سياحا تعطل يختهم في البحر الأحمر في قلب القاهرة ماسح أحذية يعمل وسيطا في بيع الأعضاء البشرية    \\n \\t\\t\\t\\t\\tمفوضة حقوق الأطفال في روسيا حماية الأطفال رسالة تساعد على المصالحة بين الجميع في سوريا \\n                         البيت الأبيض ينشر صورا تظهر آثار الهجوم على معملي أرامكو في السعودية \\n                         خبراء السعودية ستصبح مشتريا كبيرا لمنتجات النفط بعد هجمات أرامكو \\n                         هل ضلت طريقها؟ ما علاقة الطائرة التي حامت فوق قصر أمير الكويت بهجوم أرامكو؟ \\n  \\xa0        موسوعة  دروس اللغة الروسية جدول بث القناة أفلام وثائقية معلومات عامة حول القناة الكلمات الدليلية وظائف شاغرة فريق  اتصل بنا تطبيقات  استطلاعات الرأي أين يمكنك متابعة أخبار  سياسة الخصوصية لـ   ñ Русский  ç           \\n                      شروط استخدام الموقع روسيا اليوم تي في نوفوستي  © جميع الحقوق محفوظة                                                              __  موافق   هذا الموقع يستخدم ملفات تعريف الارتباط بامكانك قراءة   شروط الاستخدام  لتفعيل هذه الخاصية اضغط هنا وصول بوتين إلى أنقرة للمشاركة في القمة الثلاثية مع أردوغان وروحاني حول سوريا '"
      ]
     },
     "execution_count": 15,
     "metadata": {},
     "output_type": "execute_result"
    }
   ],
   "source": [
    "final_art"
   ]
  },
  {
   "cell_type": "code",
   "execution_count": 16,
   "metadata": {},
   "outputs": [
    {
     "data": {
      "text/plain": [
       "'2019-09-16 11:07:39+00:00'"
      ]
     },
     "execution_count": 16,
     "metadata": {},
     "output_type": "execute_result"
    }
   ],
   "source": [
    "finaldate"
   ]
  },
  {
   "cell_type": "code",
   "execution_count": null,
   "metadata": {},
   "outputs": [],
   "source": []
  },
  {
   "cell_type": "code",
   "execution_count": null,
   "metadata": {},
   "outputs": [],
   "source": []
  },
  {
   "cell_type": "code",
   "execution_count": null,
   "metadata": {},
   "outputs": [],
   "source": []
  },
  {
   "cell_type": "code",
   "execution_count": null,
   "metadata": {},
   "outputs": [],
   "source": []
  }
 ],
 "metadata": {
  "kernelspec": {
   "display_name": "pythonDa",
   "language": "python",
   "name": "pythonda"
  }
 },
 "nbformat": 4,
 "nbformat_minor": 2
}
